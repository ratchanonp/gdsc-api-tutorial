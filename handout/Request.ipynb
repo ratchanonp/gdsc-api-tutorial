{
  "cells": [
    {
      "cell_type": "markdown",
      "metadata": {
        "id": "-kQGqTvd-oNu"
      },
      "source": [
        "# Play with Google APIs"
      ]
    },
    {
      "cell_type": "markdown",
      "metadata": {
        "id": "ZJsZfJJ48XRg"
      },
      "source": [
        "## Import Requests Library"
      ]
    },
    {
      "cell_type": "code",
      "execution_count": null,
      "metadata": {
        "id": "hMy5iVzI0hMH"
      },
      "outputs": [],
      "source": [
        "import requests"
      ]
    },
    {
      "cell_type": "code",
      "execution_count": null,
      "metadata": {
        "colab": {
          "base_uri": "https://localhost:8080/"
        },
        "id": "48SNh8Lg0sIu",
        "outputId": "975f3c2e-3998-4d04-e3e6-a88dda832070"
      },
      "outputs": [],
      "source": [
        "requests"
      ]
    },
    {
      "cell_type": "markdown",
      "metadata": {
        "id": "koVUAqZo8pGA"
      },
      "source": [
        "## Getting Start\n"
      ]
    },
    {
      "cell_type": "markdown",
      "metadata": {
        "id": "lthh7kbY9zoR"
      },
      "source": [
        "## My First Request"
      ]
    },
    {
      "cell_type": "code",
      "execution_count": null,
      "metadata": {
        "colab": {
          "base_uri": "https://localhost:8080/"
        },
        "id": "W-K5Spxr03lY",
        "outputId": "7d3e0d23-f552-4f75-deee-3ce8e8edcc50"
      },
      "outputs": [],
      "source": [
        "r = requests.get('https://api.github.com/events')\n",
        "r"
      ]
    },
    {
      "cell_type": "markdown",
      "metadata": {
        "id": "bWgi28CQ-cA3"
      },
      "source": [
        "## HTTP Method\n",
        "\n",
        "[HTTP Verb](https://docs.python-requests.org/en/latest/user/advanced/#http-verb)"
      ]
    },
    {
      "cell_type": "code",
      "execution_count": null,
      "metadata": {
        "colab": {
          "base_uri": "https://localhost:8080/"
        },
        "id": "14RUvk9qBMvx",
        "outputId": "3fe97aaf-fa50-4589-ab37-a44accc40304"
      },
      "outputs": [],
      "source": [
        "# Method GET\n",
        "r = requests.get('https://httpbin.org/get')\n",
        "r"
      ]
    },
    {
      "cell_type": "code",
      "execution_count": null,
      "metadata": {
        "colab": {
          "base_uri": "https://localhost:8080/"
        },
        "id": "MQI0xF2Q-Ewt",
        "outputId": "a05fbd76-e2e9-4daf-9bbb-7f1ddebfbaec"
      },
      "outputs": [],
      "source": [
        "# Method POST\n",
        "r = requests.post('https://httpbin.org/post', data={'key': 'value'})\n",
        "r"
      ]
    },
    {
      "cell_type": "code",
      "execution_count": null,
      "metadata": {
        "colab": {
          "base_uri": "https://localhost:8080/"
        },
        "id": "thwjNk3D_E3i",
        "outputId": "43d6d12d-0e7a-4692-af4a-f19235bd5968"
      },
      "outputs": [],
      "source": [
        "# Method PUT\n",
        "r = requests.put('https://httpbin.org/put', data={'key': 'value'})\n",
        "r"
      ]
    },
    {
      "cell_type": "code",
      "execution_count": null,
      "metadata": {
        "colab": {
          "base_uri": "https://localhost:8080/"
        },
        "id": "UvCQbME-hAnu",
        "outputId": "312685b3-70a4-4013-89b5-8dac57c8121f"
      },
      "outputs": [],
      "source": [
        "# Method PATCH\n",
        "r = requests.patch('https://httpbin.org/patch', data={'key': 'value'})\n",
        "r"
      ]
    },
    {
      "cell_type": "code",
      "execution_count": null,
      "metadata": {
        "colab": {
          "base_uri": "https://localhost:8080/"
        },
        "id": "I2tW0aEo_Gs6",
        "outputId": "42b823ad-1e31-4f76-a66f-f432f6dfc1d8"
      },
      "outputs": [],
      "source": [
        "# Method Delete\n",
        "r = requests.delete('https://httpbin.org/delete')\n",
        "r"
      ]
    },
    {
      "cell_type": "code",
      "execution_count": null,
      "metadata": {
        "colab": {
          "base_uri": "https://localhost:8080/"
        },
        "id": "mQH8ArPI_ILU",
        "outputId": "51dee5ac-3b25-4e16-b05a-1c4f91e76eb9"
      },
      "outputs": [],
      "source": [
        "# Method Head\n",
        "r = requests.head('https://httpbin.org/get')\n",
        "r"
      ]
    },
    {
      "cell_type": "code",
      "execution_count": null,
      "metadata": {
        "colab": {
          "base_uri": "https://localhost:8080/"
        },
        "id": "o_yLz6fa_JX2",
        "outputId": "64a0310b-531a-4154-a59d-e5432e539e27"
      },
      "outputs": [],
      "source": [
        "# Method OPTIONS\n",
        "r = requests.options('https://httpbin.org/get')\n",
        "r"
      ]
    },
    {
      "cell_type": "markdown",
      "metadata": {
        "id": "2ZUObVzm_lIS"
      },
      "source": [
        "## Passing Passing Parameters In URLs\n",
        "\n",
        "`httpbin.org/get?key=val`"
      ]
    },
    {
      "cell_type": "code",
      "execution_count": null,
      "metadata": {
        "colab": {
          "base_uri": "https://localhost:8080/"
        },
        "id": "xmSfEYFx_KI6",
        "outputId": "c4252696-90d9-46b7-eebc-6643e70fe69a"
      },
      "outputs": [],
      "source": [
        "payload = {'key1': 'value1', 'key2': 'value2'}\n",
        "\n",
        "r = requests.get('https://httpbin.org/get', params=payload)\n",
        "print(r.url)"
      ]
    },
    {
      "cell_type": "code",
      "execution_count": null,
      "metadata": {
        "colab": {
          "base_uri": "https://localhost:8080/"
        },
        "id": "wClBk9NUAIR0",
        "outputId": "819a8ac9-10ad-4995-e953-7091f93e388b"
      },
      "outputs": [],
      "source": [
        "payload = {'key1': 'value1', 'key2': ['value2', 'value3']}\n",
        "\n",
        "r = requests.get('https://httpbin.org/get', params=payload)\n",
        "print(r.url)"
      ]
    },
    {
      "cell_type": "markdown",
      "metadata": {
        "id": "2UoXPyIsCa7h"
      },
      "source": [
        "## Response Content"
      ]
    },
    {
      "cell_type": "code",
      "execution_count": null,
      "metadata": {
        "colab": {
          "base_uri": "https://localhost:8080/",
          "height": 1000
        },
        "id": "cOcAIw7qCcif",
        "outputId": "dc74ff53-a672-4b62-c156-9d5a8f0c00ec"
      },
      "outputs": [],
      "source": [
        "r = requests.get('https://api.github.com/events')\n",
        "r.text"
      ]
    },
    {
      "cell_type": "code",
      "execution_count": null,
      "metadata": {
        "colab": {
          "base_uri": "https://localhost:8080/",
          "height": 35
        },
        "id": "lpnIDWZhCj97",
        "outputId": "26632366-b7a0-452b-926f-b9224972da14"
      },
      "outputs": [],
      "source": [
        "r.encoding"
      ]
    },
    {
      "cell_type": "markdown",
      "metadata": {
        "id": "5HEi4ztACvvD"
      },
      "source": [
        "## Binary Response Content"
      ]
    },
    {
      "cell_type": "code",
      "execution_count": null,
      "metadata": {
        "colab": {
          "base_uri": "https://localhost:8080/"
        },
        "id": "3GxwE9nbC_AI",
        "outputId": "d538f540-b868-455c-8e3e-c1b1c159aa3f"
      },
      "outputs": [],
      "source": [
        "r.content"
      ]
    },
    {
      "cell_type": "markdown",
      "metadata": {
        "id": "YfQ9lsRJCzry"
      },
      "source": [
        "## JSON Response Content"
      ]
    },
    {
      "cell_type": "code",
      "execution_count": null,
      "metadata": {
        "colab": {
          "base_uri": "https://localhost:8080/"
        },
        "id": "vYGItZy2C8tJ",
        "outputId": "9ea1b516-18cc-4757-95d1-5c28d5a18f4e"
      },
      "outputs": [],
      "source": [
        "r.json()"
      ]
    },
    {
      "cell_type": "markdown",
      "metadata": {
        "id": "YnJB2MccEiCX"
      },
      "source": [
        "## Custom Headers"
      ]
    },
    {
      "cell_type": "code",
      "execution_count": null,
      "metadata": {
        "colab": {
          "base_uri": "https://localhost:8080/"
        },
        "id": "ogDDB1rTEjNb",
        "outputId": "9b36ae70-2649-4f6f-bf02-aaa515e1565d"
      },
      "outputs": [],
      "source": [
        "url = 'https://api.github.com/some/endpoint'\n",
        "headers = {'user-agent': 'my-app/0.0.1'}\n",
        "\n",
        "r = requests.get(url, headers=headers)\n",
        "r.headers"
      ]
    },
    {
      "cell_type": "markdown",
      "metadata": {
        "id": "MWu6oFydE2GL"
      },
      "source": [
        "## Response Status Codes"
      ]
    },
    {
      "cell_type": "code",
      "execution_count": null,
      "metadata": {
        "colab": {
          "base_uri": "https://localhost:8080/"
        },
        "id": "Nj0lVvUwE3oJ",
        "outputId": "b1f97e37-3b93-4ec4-a5df-6e2f0395facc"
      },
      "outputs": [],
      "source": [
        "r = requests.get('https://httpbin.org/get')\n",
        "r.status_code"
      ]
    },
    {
      "cell_type": "markdown",
      "metadata": {
        "id": "tKENs7BAFYzW"
      },
      "source": [
        "## Response Headers"
      ]
    },
    {
      "cell_type": "code",
      "execution_count": null,
      "metadata": {
        "colab": {
          "base_uri": "https://localhost:8080/"
        },
        "id": "X25QGhuQFbb3",
        "outputId": "98458d38-c0b1-4414-aa84-b7aaedeffbc4"
      },
      "outputs": [],
      "source": [
        "r.headers"
      ]
    },
    {
      "cell_type": "code",
      "execution_count": null,
      "metadata": {
        "colab": {
          "base_uri": "https://localhost:8080/",
          "height": 35
        },
        "id": "Dofh17-CFd5T",
        "outputId": "7ead562c-bbff-46e1-cce3-b86bbe5058bb"
      },
      "outputs": [],
      "source": [
        "r.headers['Content-Type']"
      ]
    },
    {
      "cell_type": "code",
      "execution_count": null,
      "metadata": {
        "colab": {
          "base_uri": "https://localhost:8080/",
          "height": 35
        },
        "id": "AC33tGobFeLa",
        "outputId": "3278d411-c3d5-41ee-d162-51e58693f95f"
      },
      "outputs": [],
      "source": [
        "r.headers.get('content-type')"
      ]
    },
    {
      "cell_type": "markdown",
      "metadata": {
        "id": "ubjx4LijHiPV"
      },
      "source": [
        "## Cookies"
      ]
    },
    {
      "cell_type": "code",
      "execution_count": null,
      "metadata": {
        "colab": {
          "base_uri": "https://localhost:8080/",
          "height": 35
        },
        "id": "SQa_oGKaHjvE",
        "outputId": "05ea74ee-604d-4136-cfa7-318486dadc17"
      },
      "outputs": [],
      "source": [
        "url = 'https://httpbin.org/cookies'\n",
        "cookies = dict(cookies_are='working')\n",
        "\n",
        "r = requests.get(url, cookies=cookies)\n",
        "r.text"
      ]
    }
  ],
  "metadata": {
    "colab": {
      "name": "Request.ipynb",
      "provenance": []
    },
    "kernelspec": {
      "display_name": "Python 3",
      "name": "python3"
    },
    "language_info": {
      "name": "python"
    }
  },
  "nbformat": 4,
  "nbformat_minor": 0
}
